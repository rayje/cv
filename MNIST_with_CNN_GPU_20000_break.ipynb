{
 "cells": [
  {
   "cell_type": "code",
   "execution_count": 1,
   "metadata": {
    "collapsed": true
   },
   "outputs": [],
   "source": [
    "import tensorflow as tf\n",
    "from tensorflow.examples.tutorials.mnist import input_data as mnist_data\n",
    "import math\n",
    "import numpy as np\n",
    "\n",
    "from datetime import datetime\n",
    "import plotter\n",
    "import matplotlib.pyplot as plt\n",
    "%matplotlib inline\n",
    "%load_ext autoreload\n",
    "%autoreload 2"
   ]
  },
  {
   "cell_type": "code",
   "execution_count": 2,
   "metadata": {
    "collapsed": false
   },
   "outputs": [
    {
     "name": "stdout",
     "output_type": "stream",
     "text": [
      "Extracting data/train-images-idx3-ubyte.gz\n",
      "Extracting data/train-labels-idx1-ubyte.gz\n",
      "Extracting data/t10k-images-idx3-ubyte.gz\n",
      "Extracting data/t10k-labels-idx1-ubyte.gz\n"
     ]
    }
   ],
   "source": [
    "mnist = mnist_data.read_data_sets(\"data\", one_hot=True, reshape=False, validation_size=0)"
   ]
  },
  {
   "cell_type": "code",
   "execution_count": 3,
   "metadata": {
    "collapsed": true
   },
   "outputs": [],
   "source": [
    "def build_layers(images, CONV_1, CONV_2, CONV_3, FULL_L, pkeep):\n",
    "    # Layer 1\n",
    "    stride = 1\n",
    "    l1_weights = tf.Variable(tf.truncated_normal([6, 6, 1, CONV_1], stddev=1.0), name='l1_weights')\n",
    "    l1_biases = tf.Variable(tf.ones([CONV_1])/10, name='l1_biases')\n",
    "    layer_1 = tf.nn.relu(\n",
    "        tf.nn.conv2d(images, l1_weights, \n",
    "                     strides=[1, stride, stride, 1], \n",
    "                     padding='SAME') + l1_biases)\n",
    "    \n",
    "    # Layer 2\n",
    "    stride = 2\n",
    "    l2_weights = tf.Variable(tf.truncated_normal([5, 5, CONV_1, CONV_2], stddev=1.0), name='l2_weights')\n",
    "    l2_biases  = tf.Variable(tf.ones([CONV_2])/10, name='l2_biases')\n",
    "    layer_2 = tf.nn.relu(\n",
    "        tf.nn.conv2d(layer_1, l2_weights, \n",
    "                     strides=[1, stride, stride, 1], \n",
    "                     padding='SAME') + l2_biases)\n",
    "    \n",
    "    # Layer 3\n",
    "    l3_weights = tf.Variable(tf.truncated_normal([4, 4, CONV_2, CONV_3], stddev=1.0), name='l3_weights')\n",
    "    l3_biases = tf.Variable(tf.ones([CONV_3])/10, name='l3_biases')\n",
    "    layer_3 = tf.nn.relu(\n",
    "        tf.nn.conv2d(layer_2, l3_weights, \n",
    "                     strides=[1, stride, stride, 1], \n",
    "                     padding='SAME') + l3_biases)\n",
    "    \n",
    "    # Flatten all values for the fully connected layer\n",
    "    reshaped_layer3 = tf.reshape(layer_3, shape=[-1, 7 * 7 * CONV_3])\n",
    "    \n",
    "    # Layer 4 - Fully Connected Layer\n",
    "    l4_weights = tf.Variable(tf.truncated_normal([7 * 7 * CONV_3, FULL_L], stddev=1.0), name='l4_weights')\n",
    "    l4_biases = tf.Variable(tf.ones([FULL_L])/10, name='l4_biases')\n",
    "    layer_4 = tf.nn.relu(tf.matmul(reshaped_layer3, l4_weights) + l4_biases)\n",
    "    \n",
    "    l4_dropout = tf.nn.dropout(layer_4, pkeep)\n",
    "    \n",
    "    # Logits\n",
    "    lg_weights = tf.Variable(tf.truncated_normal([FULL_L, 10], stddev=0.1), name='lg_weights')\n",
    "    lg_biases = tf.Variable(tf.ones([10])/10, name='lg_biases')\n",
    "    logits = tf.matmul(l4_dropout, lg_weights) + lg_biases\n",
    "    \n",
    "    return logits"
   ]
  },
  {
   "cell_type": "code",
   "execution_count": 4,
   "metadata": {
    "collapsed": true
   },
   "outputs": [],
   "source": [
    "def build_training_graph(logits, labels, learning_rate):\n",
    "    labels = tf.to_int64(labels)\n",
    "    \n",
    "    cross_entropy = tf.nn.softmax_cross_entropy_with_logits(logits=logits, labels=labels, name='xentropy')\n",
    "    cross_entropy = tf.reduce_mean(cross_entropy, name='xentropy_mean') * 100\n",
    "    \n",
    "    predictions = tf.nn.softmax(logits)\n",
    "    \n",
    "    correct_prediction = tf.equal(tf.argmax(predictions, 1), tf.argmax(labels, 1))\n",
    "    accuracy = tf.reduce_mean(tf.cast(correct_prediction, tf.float32))\n",
    "    \n",
    "    optimizer = tf.train.AdamOptimizer(learning_rate)\n",
    "    train_step = optimizer.minimize(cross_entropy)\n",
    "    \n",
    "    return train_step, cross_entropy, accuracy"
   ]
  },
  {
   "cell_type": "code",
   "execution_count": null,
   "metadata": {
    "collapsed": true
   },
   "outputs": [],
   "source": [
    "mnist_graph = tf.Graph()\n",
    "\n",
    "CONV_1 = 6\n",
    "CONV_2 = 12\n",
    "CONV_3 = 24\n",
    "FULL_L = 200\n",
    "\n",
    "with mnist_graph.as_default():\n",
    "    images_placeholder = tf.placeholder(tf.float32, [None, 28, 28, 1])\n",
    "    labels_placeholder = tf.placeholder(tf.float32, [None, 10])\n",
    "    pkeep = tf.placeholder(tf.float32)\n",
    "    \n",
    "    logits = build_layers(images_placeholder,\n",
    "                          CONV_1, CONV_2, CONV_3, FULL_L, pkeep)\n",
    "    \n",
    "    train_step, loss, accuracy = build_training_graph(logits, labels_placeholder, 0.01)\n",
    "    \n",
    "    init = tf.global_variables_initializer()"
   ]
  },
  {
   "cell_type": "code",
   "execution_count": null,
   "metadata": {
    "collapsed": false
   },
   "outputs": [
    {
     "name": "stdout",
     "output_type": "stream",
     "text": [
      "('2017-07-06 13:01:46', 'Step 0: loss = 169678.53')\n"
     ]
    }
   ],
   "source": [
    "with tf.Session(graph=mnist_graph) as sess:\n",
    "    training_acc, test_acc, test_loss, training_loss = [], [], [], []\n",
    "    sess.run(init)\n",
    "\n",
    "    test_data = {images_placeholder: mnist.test.images, \n",
    "                 labels_placeholder: mnist.test.labels,\n",
    "                 pkeep: 1.0}\n",
    "    \n",
    "    max_learning_rate = 0.003\n",
    "    min_learning_rate = 0.0001\n",
    "    diff_lr = max_learning_rate - min_learning_rate\n",
    "    lr_range = min_learning_rate + diff_lr\n",
    "    decay_speed = 2000.0\n",
    "    \n",
    "    for i in range(20000):\n",
    "        images_feed, labels_feed = mnist.train.next_batch(100)\n",
    "        learning_rate = lr_range * math.exp(-i/decay_speed)\n",
    "        \n",
    "        train_data = {images_placeholder: images_feed,\n",
    "                      labels_placeholder: labels_feed,\n",
    "                      pkeep: 0.75}\n",
    "        sess.run(train_step, feed_dict=train_data)\n",
    "        \n",
    "        ta, tc = sess.run([accuracy, loss], feed_dict=train_data)\n",
    "        training_loss.append(tc)\n",
    "        training_acc.append(ta)\n",
    "        \n",
    "        if (i % 500) == 0:\n",
    "            print(datetime.now().strftime(\"%Y-%m-%d %H:%M:%S\"), \"Step %d: loss = %.2f\" % (i, tc))\n",
    "\n",
    "        # Get accuracy and loss with test data\n",
    "        a, c = sess.run([accuracy, loss], feed_dict=test_data)\n",
    "        test_acc.append(a)\n",
    "        test_loss.append(c)\n",
    "        \n",
    "        if tc < 2.0:\n",
    "            print(datetime.now().strftime(\"%Y-%m-%d %H:%M:%S\"), \"Step %d: loss = %.2f\" % (i, tc))\n",
    "            break\n",
    "    \n",
    "    a, c = sess.run([accuracy, loss], feed_dict=test_data)\n",
    "    test_acc.append(a)\n",
    "    test_loss.append(c)    \n",
    "    \n",
    "    results = {\n",
    "        'train_acc': training_acc,\n",
    "        'train_loss': training_loss,\n",
    "        'test_acc': test_acc, \n",
    "        'test_loss': test_loss,\n",
    "    }\n",
    "\n",
    "    print(\"accuracy:\" + str(a) + \" loss: \" + str(c))\n",
    "    plotter.plot_results(**results)"
   ]
  },
  {
   "cell_type": "code",
   "execution_count": null,
   "metadata": {
    "collapsed": true
   },
   "outputs": [],
   "source": []
  }
 ],
 "metadata": {
  "anaconda-cloud": {},
  "kernelspec": {
   "display_name": "Python [default]",
   "language": "python",
   "name": "python2"
  },
  "language_info": {
   "codemirror_mode": {
    "name": "ipython",
    "version": 2
   },
   "file_extension": ".py",
   "mimetype": "text/x-python",
   "name": "python",
   "nbconvert_exporter": "python",
   "pygments_lexer": "ipython2",
   "version": "2.7.12"
  }
 },
 "nbformat": 4,
 "nbformat_minor": 1
}
